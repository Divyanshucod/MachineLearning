{
 "cells": [
  {
   "cell_type": "code",
   "execution_count": 1,
   "metadata": {},
   "outputs": [
    {
     "name": "stdout",
     "output_type": "stream",
     "text": [
      "{'name': 'rahul', 'age': 22}\n"
     ]
    }
   ],
   "source": [
    "# creation and declaration of dictionary\n",
    "my_dic = {\"name\":\"rahul\",\"age\":22}\n",
    "print(my_dic)"
   ]
  },
  {
   "cell_type": "code",
   "execution_count": 4,
   "metadata": {},
   "outputs": [
    {
     "name": "stdout",
     "output_type": "stream",
     "text": [
      "rahul\n",
      "None\n",
      "22\n"
     ]
    }
   ],
   "source": [
    "## accessing elements using different methods\n",
    "print(my_dic[\"name\"])\n",
    "print(my_dic.get(\"email\",\"not available\")) # default value if key is not present\n",
    "print(my_dic.get(\"age\"))"
   ]
  },
  {
   "cell_type": "code",
   "execution_count": 6,
   "metadata": {},
   "outputs": [
    {
     "name": "stdout",
     "output_type": "stream",
     "text": [
      "{'name': 'Hyperverge', 'age': 22, 'location': 'Bangaluru'}\n",
      "{'age': 22, 'location': 'Bangaluru'}\n"
     ]
    }
   ],
   "source": [
    "## Dictionary modification\n",
    "my_dic[\"name\"]=\"Hyperverge\"\n",
    "my_dic[\"location\"]=\"Bangaluru\" # added key and value\n",
    "print(my_dic)\n",
    "## delete key\n",
    "del my_dic[\"name\"]\n",
    "print(my_dic)"
   ]
  },
  {
   "cell_type": "code",
   "execution_count": 8,
   "metadata": {},
   "outputs": [
    {
     "name": "stdout",
     "output_type": "stream",
     "text": [
      "dict_keys(['age', 'location']) dict_values([22, 'Bangaluru'])\n",
      "dict_items([('age', 22), ('location', 'Bangaluru')])\n"
     ]
    }
   ],
   "source": [
    "# methods \n",
    "# getting all keys\n",
    "keys=my_dic.keys()\n",
    "# getting all values\n",
    "values=my_dic.values()\n",
    "print(keys,values)\n",
    "\n",
    "# getting in form of pairs (key,value)\n",
    "items=my_dic.items()\n",
    "print(items)"
   ]
  },
  {
   "cell_type": "code",
   "execution_count": null,
   "metadata": {},
   "outputs": [],
   "source": [
    "## creating a shallow copy\n",
    "my_dic1=my_dic.copy()\n"
   ]
  },
  {
   "cell_type": "code",
   "execution_count": 13,
   "metadata": {},
   "outputs": [
    {
     "name": "stdout",
     "output_type": "stream",
     "text": [
      "age\n",
      "location\n",
      "22\n",
      "Bangaluru\n",
      "age:22\n",
      "location:Bangaluru\n"
     ]
    }
   ],
   "source": [
    "# iterate over dictionary\n",
    "# iterating over keys \n",
    "for keys in my_dic.keys():\n",
    "    print(keys)\n",
    "\n",
    "# iteration over values\n",
    "for values in my_dic.values():\n",
    "    print(values)\n",
    "\n",
    "# iterating over pairs\n",
    "for key,value in my_dic.items():\n",
    "    print(f\"{key}:{value}\")\n",
    "\n",
    "# also you may having nested dictionary in that case you can access any value just\n",
    "# like the same way as we do in 2d arrays"
   ]
  },
  {
   "cell_type": "code",
   "execution_count": 14,
   "metadata": {},
   "outputs": [
    {
     "name": "stdout",
     "output_type": "stream",
     "text": [
      "{0: 0, 1: 1, 2: 4, 3: 9, 4: 16}\n"
     ]
    }
   ],
   "source": [
    "## dictionary comprehension\n",
    "squares={x:x**2 for x in range(5)}\n",
    "print(squares)"
   ]
  },
  {
   "cell_type": "code",
   "execution_count": 15,
   "metadata": {},
   "outputs": [
    {
     "name": "stdout",
     "output_type": "stream",
     "text": [
      "{1: 2, 2: 2, 3: 3, 4: 1, 5: 4}\n"
     ]
    }
   ],
   "source": [
    "## count frequency\n",
    "numbers = [1,2,3,4,5,5,5,5,3,3,2,1]\n",
    "freq = {}\n",
    "for number in numbers:\n",
    "    freq[number] = freq.get(number,0)+1\n",
    "\n",
    "print(freq)"
   ]
  }
 ],
 "metadata": {
  "kernelspec": {
   "display_name": "Python 3",
   "language": "python",
   "name": "python3"
  },
  "language_info": {
   "codemirror_mode": {
    "name": "ipython",
    "version": 3
   },
   "file_extension": ".py",
   "mimetype": "text/x-python",
   "name": "python",
   "nbconvert_exporter": "python",
   "pygments_lexer": "ipython3",
   "version": "3.10.0"
  }
 },
 "nbformat": 4,
 "nbformat_minor": 2
}
