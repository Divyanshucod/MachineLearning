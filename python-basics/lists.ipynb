{
 "cells": [
  {
   "cell_type": "code",
   "execution_count": 1,
   "metadata": {},
   "outputs": [
    {
     "name": "stdout",
     "output_type": "stream",
     "text": [
      "<class 'list'>\n"
     ]
    }
   ],
   "source": [
    "lst=[]\n",
    "print(type(lst))"
   ]
  },
  {
   "cell_type": "code",
   "execution_count": 2,
   "metadata": {},
   "outputs": [
    {
     "name": "stdout",
     "output_type": "stream",
     "text": [
      "['krish', 'jack', 'jcob', 1, 2]\n"
     ]
    }
   ],
   "source": [
    "name=[\"krish\",\"jack\",\"jcob\",1,2]\n",
    "print(name)"
   ]
  },
  {
   "cell_type": "code",
   "execution_count": 3,
   "metadata": {},
   "outputs": [
    {
     "name": "stdout",
     "output_type": "stream",
     "text": [
      "krish\n"
     ]
    }
   ],
   "source": [
    "### Accessing list elements\n",
    "print(name[0])"
   ]
  },
  {
   "cell_type": "code",
   "execution_count": 9,
   "metadata": {},
   "outputs": [
    {
     "name": "stdout",
     "output_type": "stream",
     "text": [
      "['game', 'martin', 'martin', 'jack', 'jcob', 1, 2, 'orange', 'orange', 'orange', 'orange']\n"
     ]
    }
   ],
   "source": [
    "### modify lists \n",
    "name[0] = \"game\"\n",
    "print(name)"
   ]
  },
  {
   "cell_type": "code",
   "execution_count": 15,
   "metadata": {},
   "outputs": [
    {
     "name": "stdout",
     "output_type": "stream",
     "text": [
      "['project1', 'AIproject', 'JavascriptPro', 'myProject']\n",
      "['project1', 'AIproject', 'JavascriptPro', 'myProject', 'hi']\n",
      "['project1', 'value', 'AIproject', 'JavascriptPro', 'myProject', 'hi']\n"
     ]
    }
   ],
   "source": [
    "projects =[\"project1\",\"AIproject\",\"JavascriptPro\",\"myProject\"]\n",
    "print(projects)\n",
    "### list methods #append \n",
    "projects.append(\"hi\")\n",
    "##\n",
    "print(projects)\n",
    "## insert method\n",
    "projects.insert(1,\"value\")\n",
    "print(projects)\n",
    "## remove \n",
    "projects.remove(\"project1\") # removes the first occurence\n",
    "## pop the last element \n",
    "projects.pop()\n",
    "## get the index of any specific thing in our case (string)\n",
    "index = projects.index(\"project1\")\n",
    "## count the occurence \n",
    "projects.count(\"hi\")\n",
    "## sort\n",
    "projects.sort()\n",
    "## remove all elements fro list \n",
    "projects.clear() "
   ]
  },
  {
   "cell_type": "code",
   "execution_count": 16,
   "metadata": {},
   "outputs": [
    {
     "name": "stdout",
     "output_type": "stream",
     "text": [
      "[1, 3, 5, 7, 9]\n",
      "[9, 7, 5, 3, 1]\n",
      "[3, 4, 5]\n"
     ]
    }
   ],
   "source": [
    "## slicing the list \n",
    "newList = [1,2,3,4,5,6,7,8,9]\n",
    "print(newList[::2])\n",
    "print(newList[::-2])\n",
    "print(newList[2:5])"
   ]
  },
  {
   "cell_type": "code",
   "execution_count": 18,
   "metadata": {},
   "outputs": [
    {
     "name": "stdout",
     "output_type": "stream",
     "text": [
      "1\n",
      "2\n",
      "3\n",
      "4\n",
      "5\n",
      "6\n",
      "7\n",
      "8\n",
      "9\n",
      "0 1\n",
      "1 2\n",
      "2 3\n",
      "3 4\n",
      "4 5\n",
      "5 6\n",
      "6 7\n",
      "7 8\n",
      "8 9\n"
     ]
    }
   ],
   "source": [
    "## iterating over list only value wise or index+value\n",
    "for number in newList:\n",
    "    print(number)\n",
    "\n",
    "## with index \n",
    "for index,number in enumerate(newList):\n",
    "    print(index,number)"
   ]
  },
  {
   "cell_type": "code",
   "execution_count": 21,
   "metadata": {},
   "outputs": [
    {
     "data": {
      "text/plain": [
       "[0,\n",
       " 1,\n",
       " 8,\n",
       " 27,\n",
       " 64,\n",
       " 125,\n",
       " 216,\n",
       " 343,\n",
       " 512,\n",
       " 729,\n",
       " 1000,\n",
       " 1331,\n",
       " 1728,\n",
       " 2197,\n",
       " 2744,\n",
       " 3375,\n",
       " 4096,\n",
       " 4913,\n",
       " 5832,\n",
       " 6859]"
      ]
     },
     "execution_count": 21,
     "metadata": {},
     "output_type": "execute_result"
    }
   ],
   "source": [
    "## list comprehension\n",
    "for x in range(10):\n",
    "    lst.append(x**2)\n",
    "\n",
    "# print(lst)\n",
    "\n",
    "## comprehensive form \n",
    "[x**3 for x in range(20)] "
   ]
  },
  {
   "cell_type": "code",
   "execution_count": null,
   "metadata": {},
   "outputs": [],
   "source": [
    "##### "
   ]
  },
  {
   "cell_type": "markdown",
   "metadata": {},
   "source": []
  },
  {
   "cell_type": "markdown",
   "metadata": {},
   "source": [
    "#### list comprehension\n",
    "basic syntex        [expression for item in iterable]\n",
    "\n",
    "with conditional logic  [expression for item in iterable if condition]\n",
    "\n",
    "nested list comprehension  [expression for item1 in iterables for item2 in iterables]"
   ]
  },
  {
   "cell_type": "code",
   "execution_count": 25,
   "metadata": {},
   "outputs": [
    {
     "name": "stdout",
     "output_type": "stream",
     "text": [
      "[0, 1, 4, 9, 16, 25, 36, 49, 64, 81]\n",
      "[0, 4, 16, 36, 64]\n",
      "[[1, 'a'], [1, 'b'], [1, 'c'], [1, 'd'], [2, 'a'], [2, 'b'], [2, 'c'], [2, 'd'], [3, 'a'], [3, 'b'], [3, 'c'], [3, 'd'], [4, 'a'], [4, 'b'], [4, 'c'], [4, 'd']]\n"
     ]
    }
   ],
   "source": [
    "### basic list comprehension\n",
    "square=[num**2 for num in range(10)]\n",
    "print(square)\n",
    "\n",
    "### comprehension with condition \n",
    "## square of even nos \n",
    "squareOfNo = [num**2 for num in range(10) if num%2 == 0]\n",
    "print(squareOfNo)\n",
    "\n",
    "## nested list comprehension\n",
    "lst1 = [1,2,3,4]\n",
    "lst2 = ['a','b','c','d']\n",
    "squareNested = [[i,j] for i in lst1 for j in lst2]\n",
    "print(squareNested)"
   ]
  }
 ],
 "metadata": {
  "kernelspec": {
   "display_name": "Python 3",
   "language": "python",
   "name": "python3"
  },
  "language_info": {
   "codemirror_mode": {
    "name": "ipython",
    "version": 3
   },
   "file_extension": ".py",
   "mimetype": "text/x-python",
   "name": "python",
   "nbconvert_exporter": "python",
   "pygments_lexer": "ipython3",
   "version": "3.10.0"
  }
 },
 "nbformat": 4,
 "nbformat_minor": 2
}
