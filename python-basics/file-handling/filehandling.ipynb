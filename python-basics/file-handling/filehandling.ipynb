{
 "cells": [
  {
   "cell_type": "code",
   "execution_count": 3,
   "metadata": {},
   "outputs": [
    {
     "name": "stdout",
     "output_type": "stream",
     "text": [
      "hi my name is don. i captures\n"
     ]
    }
   ],
   "source": [
    "## reading full file content\n",
    "\n",
    "with open('example.txt','r') as file:\n",
    "    content = file.read()\n",
    "    print(content)"
   ]
  },
  {
   "cell_type": "code",
   "execution_count": 5,
   "metadata": {},
   "outputs": [
    {
     "name": "stdout",
     "output_type": "stream",
     "text": [
      "hi my name is don. i captures\n",
      "one\n",
      "two\n",
      "three\n"
     ]
    }
   ],
   "source": [
    "## read line by line file contents\n",
    "with open('example.txt','r') as file:\n",
    "    for line in file:\n",
    "        print(line.strip()) ## strip() removes the new line characters"
   ]
  },
  {
   "cell_type": "code",
   "execution_count": 6,
   "metadata": {},
   "outputs": [],
   "source": [
    "## over writting the file\n",
    "with open('example.txt','w') as file:\n",
    "    file.write('hello world\\n')\n",
    "    file.write('my name raju')"
   ]
  },
  {
   "cell_type": "code",
   "execution_count": 7,
   "metadata": {},
   "outputs": [],
   "source": [
    "## writting file without over writting( doing append )\n",
    "with open('example.txt','a') as file:\n",
    "    file.write('this is a appended text')"
   ]
  },
  {
   "cell_type": "code",
   "execution_count": 8,
   "metadata": {},
   "outputs": [],
   "source": [
    "## write multiple lines \n",
    "lines = ['\\n first line \\n','second line \\n', 'third line \\n']\n",
    "with open('example.txt','a') as file:\n",
    "    file.writelines(lines)"
   ]
  },
  {
   "cell_type": "code",
   "execution_count": 10,
   "metadata": {},
   "outputs": [],
   "source": [
    "## write binary files\n",
    "data = b'\\x00\\x01\\x02\\x03'\n",
    "with open('binary.bin','wb') as file:\n",
    "    file.write(data)"
   ]
  },
  {
   "cell_type": "code",
   "execution_count": null,
   "metadata": {},
   "outputs": [],
   "source": [
    "## read binary file\n",
    "with open('binary.bin','rb') as file:\n",
    "    file.write(data)"
   ]
  },
  {
   "cell_type": "markdown",
   "metadata": {},
   "source": [
    "## W+ mode is used to open a file for both reading and writting. if file not exist then it will be created and if exist and it will be over written."
   ]
  },
  {
   "cell_type": "code",
   "execution_count": 12,
   "metadata": {},
   "outputs": [
    {
     "name": "stdout",
     "output_type": "stream",
     "text": [
      "Hello world \n",
      "Over written\n"
     ]
    }
   ],
   "source": [
    "with open('example.txt','w+') as file:\n",
    "    file.write('Hello world \\n')\n",
    "    file.write('Over written')\n",
    "\n",
    "    ## move cursor to start point otherwise you will not be able to read content\n",
    "    file.seek(0) ## move cursor to 0 index\n",
    "    content = file.read()\n",
    "    print(content)"
   ]
  },
  {
   "cell_type": "markdown",
   "metadata": {},
   "source": [
    "#### file path handling and directory creation"
   ]
  },
  {
   "cell_type": "code",
   "execution_count": 13,
   "metadata": {},
   "outputs": [
    {
     "name": "stdout",
     "output_type": "stream",
     "text": [
      "directory package created\n"
     ]
    }
   ],
   "source": [
    "## create directory\n",
    "import os\n",
    "name_of_directory = 'package'\n",
    "os.mkdir(name_of_directory)\n",
    "print(f'directory {name_of_directory} created')"
   ]
  },
  {
   "cell_type": "code",
   "execution_count": 15,
   "metadata": {},
   "outputs": [
    {
     "name": "stdout",
     "output_type": "stream",
     "text": [
      "['binary.bin', 'example.txt', 'filehandling.ipynb', 'package']\n"
     ]
    }
   ],
   "source": [
    "## list files and directories in which we are working\n",
    "items = os.listdir('.')\n",
    "print(items)"
   ]
  },
  {
   "cell_type": "code",
   "execution_count": 16,
   "metadata": {},
   "outputs": [
    {
     "name": "stdout",
     "output_type": "stream",
     "text": [
      "folder\\file.txt\n"
     ]
    }
   ],
   "source": [
    "## joining path \n",
    "dir_name = \"folder\"\n",
    "file_name = \"file.txt\"\n",
    "full_path = os.path.join(dir_name,file_name)\n",
    "print(full_path)"
   ]
  },
  {
   "cell_type": "code",
   "execution_count": 17,
   "metadata": {},
   "outputs": [
    {
     "name": "stdout",
     "output_type": "stream",
     "text": [
      "file: 'example1.txt' does not exists\n"
     ]
    }
   ],
   "source": [
    "## see file exists or not \n",
    "file_name='example1.txt'\n",
    "if os.path.exists(file_name):\n",
    "    print(f\"file: '{file_name}' exists\")\n",
    "else:\n",
    "    print(f\"file: '{file_name}' does not exists\")"
   ]
  },
  {
   "cell_type": "code",
   "execution_count": 18,
   "metadata": {},
   "outputs": [
    {
     "name": "stdout",
     "output_type": "stream",
     "text": [
      "dir: 'package' exists\n"
     ]
    }
   ],
   "source": [
    "## Another method to check file or directory exists or not.\n",
    "import os\n",
    "\n",
    "path = 'package'\n",
    "if os.path.isfile(path):\n",
    "    print(f\"file: '{path}' exists\")\n",
    "elif os.path.isdir(path):\n",
    "    print(f\"dir: '{path}' exists\")\n",
    "else:\n",
    "    print(f\"Nor a directory or file present\")\n"
   ]
  },
  {
   "cell_type": "code",
   "execution_count": 19,
   "metadata": {},
   "outputs": [
    {
     "name": "stdout",
     "output_type": "stream",
     "text": [
      "c:\\StartingML\\python-basics\\file-handling\\example.txt\n"
     ]
    }
   ],
   "source": [
    "## getting absolute path \n",
    "relative_path = 'example.txt'\n",
    "absolute_path = os.path.abspath(relative_path)\n",
    "print(absolute_path)"
   ]
  }
 ],
 "metadata": {
  "kernelspec": {
   "display_name": "Python 3",
   "language": "python",
   "name": "python3"
  },
  "language_info": {
   "codemirror_mode": {
    "name": "ipython",
    "version": 3
   },
   "file_extension": ".py",
   "mimetype": "text/x-python",
   "name": "python",
   "nbconvert_exporter": "python",
   "pygments_lexer": "ipython3",
   "version": "3.10.0"
  }
 },
 "nbformat": 4,
 "nbformat_minor": 2
}
