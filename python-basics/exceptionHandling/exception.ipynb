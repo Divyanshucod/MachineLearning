{
 "cells": [
  {
   "cell_type": "code",
   "execution_count": null,
   "metadata": {},
   "outputs": [],
   "source": []
  },
  {
   "cell_type": "markdown",
   "metadata": {},
   "source": [
    "## UnderStanding Exceptions \n",
    "\n",
    "## it will allow you to handle exceptions in python gracefully and take corrective actions with out blocking the execution\n",
    "## execptions are event that distrupt the normal flow of program\n",
    "# 1. ZeroDivisionError\n",
    "# 2. FileNotFoundError \n",
    "# 3. ValueError : invalid value\n",
    "# 4. TypeError"
   ]
  },
  {
   "cell_type": "code",
   "execution_count": 2,
   "metadata": {},
   "outputs": [
    {
     "name": "stdout",
     "output_type": "stream",
     "text": [
      "variable is not declared yet\n"
     ]
    }
   ],
   "source": [
    "## try except block for handling exceptions\n",
    "\n",
    "# try:\n",
    "#     a=b\n",
    "# except:\n",
    "#     print('variable is not declared yet')\n",
    "\n",
    "try:\n",
    "    a=b\n",
    "except NameError as ex:\n",
    "    print(ex)"
   ]
  },
  {
   "cell_type": "code",
   "execution_count": 3,
   "metadata": {},
   "outputs": [
    {
     "name": "stdout",
     "output_type": "stream",
     "text": [
      "division by zero\n"
     ]
    }
   ],
   "source": [
    "## zeroDivisionError \n",
    "try:\n",
    "    val=1/0\n",
    "except ZeroDivisionError as ex:\n",
    "    print(ex)"
   ]
  },
  {
   "cell_type": "code",
   "execution_count": 4,
   "metadata": {},
   "outputs": [
    {
     "name": "stdout",
     "output_type": "stream",
     "text": [
      "division by zero\n"
     ]
    }
   ],
   "source": [
    "## main class to handle exception \n",
    "try:\n",
    "    val=1/0\n",
    "    a=b\n",
    "except Exception as ex:\n",
    "    print(ex)"
   ]
  },
  {
   "cell_type": "code",
   "execution_count": 7,
   "metadata": {},
   "outputs": [
    {
     "name": "stdout",
     "output_type": "stream",
     "text": [
      "division by zero\n"
     ]
    }
   ],
   "source": [
    "## try, except and else // if try execute and there is no error then else block will be executed otherwise the except block will be executed and else will not\n",
    "try: \n",
    "    val = int(input(\"Enter No:\"))\n",
    "    result = 10/val\n",
    "except ZeroDivisionError as ex:\n",
    "    print(ex)\n",
    "except ValueError as ex1:\n",
    "    print(ex1)\n",
    "except Exception as diffError:\n",
    "    print(diffError)\n",
    "else:\n",
    "    print(f\"result is : '{result}' \")"
   ]
  },
  {
   "cell_type": "code",
   "execution_count": null,
   "metadata": {},
   "outputs": [],
   "source": [
    "## try, except , else , finally // finally block will be executed irrespective to the error or normal execution. it will always executed\n",
    "\n",
    "try: \n",
    "    val = int(input(\"Enter No:\"))\n",
    "    result = 10/val\n",
    "except ZeroDivisionError as ex:\n",
    "    print(ex)\n",
    "except ValueError as ex1:\n",
    "    print(ex1)\n",
    "except Exception as diffError:\n",
    "    print(diffError)\n",
    "else:\n",
    "    print(f\"result is : '{result}' \")\n",
    "finally:\n",
    "    print(\"execution finished\")"
   ]
  }
 ],
 "metadata": {
  "kernelspec": {
   "display_name": "Python 3",
   "language": "python",
   "name": "python3"
  },
  "language_info": {
   "codemirror_mode": {
    "name": "ipython",
    "version": 3
   },
   "file_extension": ".py",
   "mimetype": "text/x-python",
   "name": "python",
   "nbconvert_exporter": "python",
   "pygments_lexer": "ipython3",
   "version": "3.10.0"
  }
 },
 "nbformat": 4,
 "nbformat_minor": 2
}
