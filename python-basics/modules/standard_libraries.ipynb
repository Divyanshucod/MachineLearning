{
 "cells": [
  {
   "cell_type": "code",
   "execution_count": 1,
   "metadata": {},
   "outputs": [
    {
     "name": "stdout",
     "output_type": "stream",
     "text": [
      "array('i', [1, 2, 3, 4])\n"
     ]
    }
   ],
   "source": [
    "## array \n",
    "import array \n",
    "arr = array.array('i',[1,2,3,4])\n",
    "print(arr)"
   ]
  },
  {
   "cell_type": "code",
   "execution_count": 2,
   "metadata": {},
   "outputs": [
    {
     "name": "stdout",
     "output_type": "stream",
     "text": [
      "2\n",
      "china\n"
     ]
    }
   ],
   "source": [
    "# random \n",
    "## random no between 1 to 10 in int value \n",
    "import random\n",
    "print(random.randint(1,10))\n",
    "## choose value in the given range array \n",
    "print(random.choice(['india','china','america']))"
   ]
  },
  {
   "cell_type": "code",
   "execution_count": 4,
   "metadata": {},
   "outputs": [
    {
     "name": "stdout",
     "output_type": "stream",
     "text": [
      "c:\\StartingML\\python-basics\\modules\n"
     ]
    }
   ],
   "source": [
    "## file handling and directory access \n",
    "import os \n",
    "print(os.getcwd())\n",
    "os.mkdir('test_dir') ## create folder in current working directory\n"
   ]
  },
  {
   "cell_type": "code",
   "execution_count": 8,
   "metadata": {},
   "outputs": [
    {
     "data": {
      "text/plain": [
       "'destination.txt'"
      ]
     },
     "execution_count": 8,
     "metadata": {},
     "output_type": "execute_result"
    }
   ],
   "source": [
    "## handling files and copying one file data to other\n",
    "import shutil \n",
    "shutil.copyfile('test_pur.txt','destination.txt')\n"
   ]
  },
  {
   "cell_type": "code",
   "execution_count": 9,
   "metadata": {},
   "outputs": [
    {
     "name": "stdout",
     "output_type": "stream",
     "text": [
      "{\"name\": \"myname\", \"age\": 23}\n",
      "<class 'str'>\n",
      "{'name': 'myname', 'age': 23}\n",
      "<class 'dict'>\n"
     ]
    }
   ],
   "source": [
    "# data serialization \n",
    "# converting dictionary to json\n",
    "import json\n",
    "info={\"name\":\"myname\",\"age\":23}\n",
    "dic_in_jsonStr_formate = json.dumps(info) # convert dictionary to json string \n",
    "print(dic_in_jsonStr_formate)\n",
    "print(type(dic_in_jsonStr_formate))\n",
    "\n",
    "# converting json to dic \n",
    "json_to_dic = json.loads(dic_in_jsonStr_formate)\n",
    "print(json_to_dic)\n",
    "print(type(json_to_dic))"
   ]
  },
  {
   "cell_type": "code",
   "execution_count": 10,
   "metadata": {},
   "outputs": [
    {
     "name": "stdout",
     "output_type": "stream",
     "text": [
      "['name', 'age']\n",
      "['rahul', '23']\n"
     ]
    }
   ],
   "source": [
    "## working with csv \n",
    "# writting in csv \n",
    "\n",
    "import csv\n",
    "\n",
    "with open('example.csv',mode='w',newline='') as file:\n",
    "    writer = csv.writer(file)\n",
    "    writer.writerow(['name','age'])\n",
    "    writer.writerow(['rahul',23])\n",
    "\n",
    "## reading csv \n",
    "\n",
    "with open('example.csv',mode='r') as file:\n",
    "    reader = csv.reader(file)\n",
    "    for row in reader:\n",
    "        print(row)"
   ]
  },
  {
   "cell_type": "code",
   "execution_count": 11,
   "metadata": {},
   "outputs": [
    {
     "name": "stdout",
     "output_type": "stream",
     "text": [
      "1727188039.6699448\n",
      "1727188041.693607\n"
     ]
    }
   ],
   "source": [
    "# add time delay \n",
    "import time\n",
    "print(time.time())\n",
    "time.sleep(2)\n",
    "print(time.time())"
   ]
  }
 ],
 "metadata": {
  "kernelspec": {
   "display_name": "Python 3",
   "language": "python",
   "name": "python3"
  },
  "language_info": {
   "codemirror_mode": {
    "name": "ipython",
    "version": 3
   },
   "file_extension": ".py",
   "mimetype": "text/x-python",
   "name": "python",
   "nbconvert_exporter": "python",
   "pygments_lexer": "ipython3",
   "version": "3.10.0"
  }
 },
 "nbformat": 4,
 "nbformat_minor": 2
}
