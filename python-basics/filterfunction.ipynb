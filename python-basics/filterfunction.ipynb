{
 "cells": [
  {
   "cell_type": "code",
   "execution_count": 1,
   "metadata": {},
   "outputs": [
    {
     "data": {
      "text/plain": [
       "[2, 4, 6, 8, 10, 12]"
      ]
     },
     "execution_count": 1,
     "metadata": {},
     "output_type": "execute_result"
    }
   ],
   "source": [
    "# it is use to filter-out items from list based on the certain condition\n",
    "\n",
    "# find even no from the list\n",
    "def even(n):\n",
    "    if n%2 == 0:\n",
    "        return True\n",
    "    \n",
    "lst = [1,2,3,4,5,6,7,8,9,10,11,12]\n",
    "\n",
    "#filter(function,list)\n",
    "list(filter(even,lst))"
   ]
  },
  {
   "cell_type": "code",
   "execution_count": 3,
   "metadata": {},
   "outputs": [
    {
     "data": {
      "text/plain": [
       "[6, 8, 10, 8]"
      ]
     },
     "execution_count": 3,
     "metadata": {},
     "output_type": "execute_result"
    }
   ],
   "source": [
    "# filter with lamda function with multiple condition\n",
    "numbers = [1,2,3,4,5,6,7,8,9,10,3,7,8]\n",
    "\n",
    "even_and_greater = list(filter(lambda x:x > 5 and x%2 == 0, numbers))\n",
    "even_and_greater"
   ]
  }
 ],
 "metadata": {
  "kernelspec": {
   "display_name": "Python 3",
   "language": "python",
   "name": "python3"
  },
  "language_info": {
   "codemirror_mode": {
    "name": "ipython",
    "version": 3
   },
   "file_extension": ".py",
   "mimetype": "text/x-python",
   "name": "python",
   "nbconvert_exporter": "python",
   "pygments_lexer": "ipython3",
   "version": "3.10.0"
  }
 },
 "nbformat": 4,
 "nbformat_minor": 2
}
