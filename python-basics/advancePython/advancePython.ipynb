{
 "cells": [
  {
   "cell_type": "code",
   "execution_count": null,
   "metadata": {},
   "outputs": [],
   "source": []
  },
  {
   "cell_type": "markdown",
   "metadata": {},
   "source": [
    "## Iterators \n",
    "\n",
    "iterators are an advance concept that allow for efficient looping and memory management."
   ]
  },
  {
   "cell_type": "code",
   "execution_count": null,
   "metadata": {},
   "outputs": [],
   "source": [
    "## create a iterator\n",
    "my_list = [1,2,3,4,5,6,7]\n",
    "\n",
    "## use iter() for creating iterator\n",
    "iterator = iter(my_list)\n",
    "## next() to go to or traverse iterator\n",
    "next(iterator) ## run multiple time for whole traversal"
   ]
  }
 ],
 "metadata": {
  "kernelspec": {
   "display_name": "Python 3",
   "language": "python",
   "name": "python3"
  },
  "language_info": {
   "name": "python",
   "version": "3.10.0"
  }
 },
 "nbformat": 4,
 "nbformat_minor": 2
}
