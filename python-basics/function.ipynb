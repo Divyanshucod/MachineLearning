{
 "cells": [
  {
   "cell_type": "code",
   "execution_count": null,
   "metadata": {},
   "outputs": [],
   "source": [
    "## function definition\n",
    "# def function_name(parameter):\n",
    "#     \"DocString\"\n",
    "#     return expression"
   ]
  },
  {
   "cell_type": "code",
   "execution_count": 2,
   "metadata": {},
   "outputs": [
    {
     "name": "stdout",
     "output_type": "stream",
     "text": [
      "3\n"
     ]
    }
   ],
   "source": [
    "## lamda function (useful when we have only one line of code same like inline in c++) so don't need to write whole function with function name or expression\n",
    "addition = lambda a,b:a+b ## declaration\n",
    "## calling function\n",
    "print(addition(1,2))\n"
   ]
  },
  {
   "cell_type": "code",
   "execution_count": 3,
   "metadata": {},
   "outputs": [
    {
     "data": {
      "text/plain": [
       "[1, 4, 9, 16, 25, 36]"
      ]
     },
     "execution_count": 3,
     "metadata": {},
     "output_type": "execute_result"
    }
   ],
   "source": [
    "## map function in py (it applies to all the given input list)\n",
    "numbers = [1,2,3,4,5,6]\n",
    "# doing square of all the no of lists\n",
    "# first para will be function and second input list\n",
    "list(map(lambda num:num*num,numbers))"
   ]
  },
  {
   "cell_type": "code",
   "execution_count": 5,
   "metadata": {},
   "outputs": [
    {
     "name": "stdout",
     "output_type": "stream",
     "text": [
      "[5, 7, 9]\n"
     ]
    }
   ],
   "source": [
    "#multiple iterables\n",
    "num1=[1,2,3]\n",
    "num2=[4,5,6]\n",
    "\n",
    "added_No = list(map(lambda x,y:x+y,num1,num2))\n",
    "print(added_No)"
   ]
  },
  {
   "cell_type": "markdown",
   "metadata": {},
   "source": []
  },
  {
   "cell_type": "code",
   "execution_count": 7,
   "metadata": {},
   "outputs": [
    {
     "name": "stdout",
     "output_type": "stream",
     "text": [
      "[1, 2]\n"
     ]
    }
   ],
   "source": [
    "#convert string no to integer no \n",
    "str_number = ['1','2']\n",
    "int_number = list(map(int,str_number))\n",
    "print(int_number)"
   ]
  }
 ],
 "metadata": {
  "kernelspec": {
   "display_name": "Python 3",
   "language": "python",
   "name": "python3"
  },
  "language_info": {
   "codemirror_mode": {
    "name": "ipython",
    "version": 3
   },
   "file_extension": ".py",
   "mimetype": "text/x-python",
   "name": "python",
   "nbconvert_exporter": "python",
   "pygments_lexer": "ipython3",
   "version": "3.10.0"
  }
 },
 "nbformat": 4,
 "nbformat_minor": 2
}
