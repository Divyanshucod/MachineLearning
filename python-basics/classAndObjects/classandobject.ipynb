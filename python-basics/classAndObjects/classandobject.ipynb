{
 "cells": [
  {
   "cell_type": "code",
   "execution_count": 1,
   "metadata": {},
   "outputs": [
    {
     "name": "stdout",
     "output_type": "stream",
     "text": [
      "joker\n"
     ]
    }
   ],
   "source": [
    "## class is a blue print for creating object \n",
    "class Dog:\n",
    "    ## constructor \n",
    "    def __init__(self,name,age):\n",
    "        self.name = name\n",
    "        self.age = age\n",
    "\n",
    "    ## obj creation \n",
    "dobarman = Dog(\"joker\",30) \n",
    "    \n",
    "print(dobarman.name)\n",
    "\n"
   ]
  },
  {
   "cell_type": "code",
   "execution_count": null,
   "metadata": {},
   "outputs": [],
   "source": [
    "## inheritance\n",
    "## parent class\n",
    "class Car:\n",
    "    def __init__(self,windows,doors,engineType):\n",
    "        self.windows = windows\n",
    "        self.doors = doors\n",
    "        self.engineType = engineType\n",
    "\n",
    "## child class with inheriting parent class\n",
    "class Audi(Car): # for inheriting multiple classes use comma like (Car,Animal)\n",
    "    def __init__(self, windows, doors, engineType,is_selfDriving):\n",
    "        super().__init__(windows, doors, engineType) ## and if inheriting from multiple class then use class name instead super like Car.__init__\n",
    "        self.is_selfDriving = is_selfDriving\n"
   ]
  },
  {
   "cell_type": "code",
   "execution_count": null,
   "metadata": {},
   "outputs": [],
   "source": [
    "## polymorphism (Overriding)\n",
    "## parent class\n",
    "class Animal:\n",
    "    def speak(self):\n",
    "        return \"Animal can also speak\"\n",
    "# derive class 1\n",
    "class Dog(Animal):\n",
    "    def speak(self):\n",
    "        return \"Bohh Bohh\"\n",
    "# derive class 2\n",
    "class Cat(Animal):\n",
    "    def speak(self):\n",
    "        return \"meow\"\n",
    "    \n"
   ]
  },
  {
   "cell_type": "markdown",
   "metadata": {},
   "source": [
    "# Abstract Class\n",
    "Abstract base class (ABCs) are used to define a common methods for a group of related objects. then can enforce that the drived class implement a particular method."
   ]
  },
  {
   "cell_type": "code",
   "execution_count": null,
   "metadata": {},
   "outputs": [],
   "source": [
    "## abstract class \n",
    "from abc import ABC,abstractmethod\n",
    "\n",
    "## define a abstract class\n",
    "class Vehicle(ABC):\n",
    "    @abstractmethod\n",
    "    def start_engine(self):\n",
    "        pass\n",
    "\n",
    "## derived class 1\n",
    "class Car(Vehicle):\n",
    "    def start_engine(self):\n",
    "        return \"Car started\""
   ]
  }
 ],
 "metadata": {
  "kernelspec": {
   "display_name": "Python 3",
   "language": "python",
   "name": "python3"
  },
  "language_info": {
   "codemirror_mode": {
    "name": "ipython",
    "version": 3
   },
   "file_extension": ".py",
   "mimetype": "text/x-python",
   "name": "python",
   "nbconvert_exporter": "python",
   "pygments_lexer": "ipython3",
   "version": "3.10.0"
  }
 },
 "nbformat": 4,
 "nbformat_minor": 2
}
