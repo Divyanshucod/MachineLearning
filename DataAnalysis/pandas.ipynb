{
 "cells": [
  {
   "cell_type": "code",
   "execution_count": 1,
   "metadata": {},
   "outputs": [
    {
     "name": "stdout",
     "output_type": "stream",
     "text": [
      "Collecting pandas\n",
      "  Downloading pandas-2.2.3-cp310-cp310-win_amd64.whl.metadata (19 kB)\n",
      "Requirement already satisfied: numpy>=1.22.4 in c:\\startingml\\venv\\lib\\site-packages (from pandas) (2.1.1)\n",
      "Requirement already satisfied: python-dateutil>=2.8.2 in c:\\startingml\\venv\\lib\\site-packages (from pandas) (2.9.0.post0)\n",
      "Collecting pytz>=2020.1 (from pandas)\n",
      "  Downloading pytz-2024.2-py2.py3-none-any.whl.metadata (22 kB)\n",
      "Collecting tzdata>=2022.7 (from pandas)\n",
      "  Downloading tzdata-2024.2-py2.py3-none-any.whl.metadata (1.4 kB)\n",
      "Requirement already satisfied: six>=1.5 in c:\\startingml\\venv\\lib\\site-packages (from python-dateutil>=2.8.2->pandas) (1.16.0)\n",
      "Downloading pandas-2.2.3-cp310-cp310-win_amd64.whl (11.6 MB)\n",
      "   ---------------------------------------- 0.0/11.6 MB ? eta -:--:--\n",
      "   ---------------------------------------- 0.0/11.6 MB ? eta -:--:--\n",
      "   ---------------------------------------- 0.0/11.6 MB ? eta -:--:--\n",
      "    --------------------------------------- 0.3/11.6 MB ? eta -:--:--\n",
      "    --------------------------------------- 0.3/11.6 MB ? eta -:--:--\n",
      "    --------------------------------------- 0.3/11.6 MB ? eta -:--:--\n",
      "   - -------------------------------------- 0.5/11.6 MB 452.8 kB/s eta 0:00:25\n",
      "   - -------------------------------------- 0.5/11.6 MB 452.8 kB/s eta 0:00:25\n",
      "   - -------------------------------------- 0.5/11.6 MB 452.8 kB/s eta 0:00:25\n",
      "   -- ------------------------------------- 0.8/11.6 MB 414.1 kB/s eta 0:00:27\n",
      "   -- ------------------------------------- 0.8/11.6 MB 414.1 kB/s eta 0:00:27\n",
      "   --- ------------------------------------ 1.0/11.6 MB 453.3 kB/s eta 0:00:24\n",
      "   --- ------------------------------------ 1.0/11.6 MB 453.3 kB/s eta 0:00:24\n",
      "   ---- ----------------------------------- 1.3/11.6 MB 482.8 kB/s eta 0:00:22\n",
      "   ---- ----------------------------------- 1.3/11.6 MB 482.8 kB/s eta 0:00:22\n",
      "   ----- ---------------------------------- 1.6/11.6 MB 511.4 kB/s eta 0:00:20\n",
      "   ----- ---------------------------------- 1.6/11.6 MB 511.4 kB/s eta 0:00:20\n",
      "   ------ --------------------------------- 1.8/11.6 MB 535.4 kB/s eta 0:00:19\n",
      "   ------- -------------------------------- 2.1/11.6 MB 561.9 kB/s eta 0:00:17\n",
      "   ------- -------------------------------- 2.1/11.6 MB 561.9 kB/s eta 0:00:17\n",
      "   -------- ------------------------------- 2.4/11.6 MB 586.0 kB/s eta 0:00:16\n",
      "   --------- ------------------------------ 2.6/11.6 MB 608.9 kB/s eta 0:00:15\n",
      "   --------- ------------------------------ 2.6/11.6 MB 608.9 kB/s eta 0:00:15\n",
      "   --------- ------------------------------ 2.9/11.6 MB 630.6 kB/s eta 0:00:14\n",
      "   ---------- ----------------------------- 3.1/11.6 MB 654.3 kB/s eta 0:00:13\n",
      "   ----------- ---------------------------- 3.4/11.6 MB 673.3 kB/s eta 0:00:13\n",
      "   ------------ --------------------------- 3.7/11.6 MB 694.5 kB/s eta 0:00:12\n",
      "   ------------- -------------------------- 3.9/11.6 MB 713.9 kB/s eta 0:00:11\n",
      "   -------------- ------------------------- 4.2/11.6 MB 731.6 kB/s eta 0:00:11\n",
      "   --------------- ------------------------ 4.5/11.6 MB 749.8 kB/s eta 0:00:10\n",
      "   ---------------- ----------------------- 4.7/11.6 MB 764.5 kB/s eta 0:00:09\n",
      "   ----------------- ---------------------- 5.0/11.6 MB 782.3 kB/s eta 0:00:09\n",
      "   ------------------ --------------------- 5.2/11.6 MB 798.8 kB/s eta 0:00:08\n",
      "   ------------------ --------------------- 5.5/11.6 MB 812.3 kB/s eta 0:00:08\n",
      "   ------------------- -------------------- 5.8/11.6 MB 827.0 kB/s eta 0:00:08\n",
      "   -------------------- ------------------- 6.0/11.6 MB 840.7 kB/s eta 0:00:07\n",
      "   --------------------- ------------------ 6.3/11.6 MB 855.6 kB/s eta 0:00:07\n",
      "   ---------------------- ----------------- 6.6/11.6 MB 867.8 kB/s eta 0:00:06\n",
      "   ----------------------- ---------------- 6.8/11.6 MB 883.0 kB/s eta 0:00:06\n",
      "   ------------------------- -------------- 7.3/11.6 MB 911.4 kB/s eta 0:00:05\n",
      "   -------------------------- ------------- 7.6/11.6 MB 924.7 kB/s eta 0:00:05\n",
      "   --------------------------- ------------ 7.9/11.6 MB 939.2 kB/s eta 0:00:04\n",
      "   ---------------------------- ----------- 8.4/11.6 MB 966.6 kB/s eta 0:00:04\n",
      "   ----------------------------- ---------- 8.7/11.6 MB 979.6 kB/s eta 0:00:04\n",
      "   ------------------------------- -------- 9.2/11.6 MB 1.0 MB/s eta 0:00:03\n",
      "   -------------------------------- ------- 9.4/11.6 MB 1.0 MB/s eta 0:00:03\n",
      "   ---------------------------------- ----- 10.0/11.6 MB 1.1 MB/s eta 0:00:02\n",
      "   ------------------------------------ --- 10.5/11.6 MB 1.1 MB/s eta 0:00:02\n",
      "   ------------------------------------- -- 11.0/11.6 MB 1.1 MB/s eta 0:00:01\n",
      "   ---------------------------------------- 11.6/11.6 MB 1.1 MB/s eta 0:00:00\n",
      "Downloading pytz-2024.2-py2.py3-none-any.whl (508 kB)\n",
      "Downloading tzdata-2024.2-py2.py3-none-any.whl (346 kB)\n",
      "Installing collected packages: pytz, tzdata, pandas\n",
      "Successfully installed pandas-2.2.3 pytz-2024.2 tzdata-2024.2\n"
     ]
    }
   ],
   "source": [
    "!pip install pandas"
   ]
  },
  {
   "cell_type": "markdown",
   "metadata": {},
   "source": [
    "## data manipulation with pandas, it provides two primary data types: series, frames. series is a one dimensional array like object and dataframe is two dimensional, sizemutable data structure\n"
   ]
  },
  {
   "cell_type": "code",
   "execution_count": 2,
   "metadata": {},
   "outputs": [
    {
     "name": "stdout",
     "output_type": "stream",
     "text": [
      "0    1\n",
      "1    2\n",
      "2    3\n",
      "3    4\n",
      "4    5\n",
      "dtype: int64\n"
     ]
    }
   ],
   "source": [
    "import pandas as pd\n",
    "# series\n",
    "data = [1,2,3,4,5]\n",
    "series = pd.Series(data)\n",
    "print(series)"
   ]
  },
  {
   "cell_type": "code",
   "execution_count": 3,
   "metadata": {},
   "outputs": [
    {
     "name": "stdout",
     "output_type": "stream",
     "text": [
      "name    Abhinav\n",
      "age          30\n",
      "Post      SA/IE\n",
      "dtype: object\n"
     ]
    }
   ],
   "source": [
    "## creating series from dictionary \n",
    "info = {\"name\":\"Abhinav\",\"age\":30,\"Post\":\"SA/IE\"}\n",
    "print(pd.Series(info))"
   ]
  },
  {
   "cell_type": "code",
   "execution_count": 4,
   "metadata": {},
   "outputs": [
    {
     "name": "stdout",
     "output_type": "stream",
     "text": [
      "a    1\n",
      "b    2\n",
      "c    3\n",
      "dtype: int64\n"
     ]
    }
   ],
   "source": [
    "## giving index seperately\n",
    "data = [1,2,3]\n",
    "index=['a','b','c']\n",
    "print(pd.Series(data,index=index))"
   ]
  },
  {
   "cell_type": "code",
   "execution_count": 5,
   "metadata": {},
   "outputs": [
    {
     "name": "stdout",
     "output_type": "stream",
     "text": [
      "     name  age     city\n",
      "0   rahul   20  Chennai\n",
      "1   joker   30    Dubai\n",
      "2  martin   40   Norway\n"
     ]
    }
   ],
   "source": [
    "## DataFrame\n",
    "# creating dataframe via dictionary\n",
    "data = {\n",
    "    \"name\":[\"rahul\",\"joker\",\"martin\"],\n",
    "    \"age\":[20,30,40],\n",
    "    \"city\":[\"Chennai\",\"Dubai\",\"Norway\"]\n",
    "}\n",
    "df = pd.DataFrame(data)\n",
    "print(df)"
   ]
  },
  {
   "cell_type": "code",
   "execution_count": 6,
   "metadata": {},
   "outputs": [
    {
     "name": "stdout",
     "output_type": "stream",
     "text": [
      "    name   age   city\n",
      "0  Joker  1000  jammu\n",
      "1    tim  1000  jammu\n",
      "2   rizz    40  jammu\n",
      "3   some     0  jammu\n"
     ]
    }
   ],
   "source": [
    "## create dataframe from list of dictionaries\n",
    "\n",
    "data = [\n",
    "    {\"name\":\"Joker\",\"age\":1000,\"city\":\"jammu\"},\n",
    "    {\"name\":\"tim\",\"age\":1000,\"city\":\"jammu\"},\n",
    "    {\"name\":\"rizz\",\"age\":40,\"city\":\"jammu\"},\n",
    "    {\"name\":\"some\",\"age\":00,\"city\":\"jammu\"}\n",
    "]\n",
    "df = pd.DataFrame(data)\n",
    "print(df)"
   ]
  },
  {
   "cell_type": "code",
   "execution_count": 9,
   "metadata": {},
   "outputs": [
    {
     "data": {
      "text/html": [
       "<div>\n",
       "<style scoped>\n",
       "    .dataframe tbody tr th:only-of-type {\n",
       "        vertical-align: middle;\n",
       "    }\n",
       "\n",
       "    .dataframe tbody tr th {\n",
       "        vertical-align: top;\n",
       "    }\n",
       "\n",
       "    .dataframe thead th {\n",
       "        text-align: right;\n",
       "    }\n",
       "</style>\n",
       "<table border=\"1\" class=\"dataframe\">\n",
       "  <thead>\n",
       "    <tr style=\"text-align: right;\">\n",
       "      <th></th>\n",
       "      <th>InvoiceNo</th>\n",
       "      <th>StockCode</th>\n",
       "      <th>Description</th>\n",
       "      <th>Quantity</th>\n",
       "      <th>InvoiceDate</th>\n",
       "      <th>UnitPrice</th>\n",
       "      <th>CustomerID</th>\n",
       "      <th>Country</th>\n",
       "    </tr>\n",
       "  </thead>\n",
       "  <tbody>\n",
       "    <tr>\n",
       "      <th>541904</th>\n",
       "      <td>581587</td>\n",
       "      <td>22613</td>\n",
       "      <td>PACK OF 20 SPACEBOY NAPKINS</td>\n",
       "      <td>12</td>\n",
       "      <td>12/9/2011 12:50</td>\n",
       "      <td>0.85</td>\n",
       "      <td>12680.0</td>\n",
       "      <td>France</td>\n",
       "    </tr>\n",
       "    <tr>\n",
       "      <th>541905</th>\n",
       "      <td>581587</td>\n",
       "      <td>22899</td>\n",
       "      <td>CHILDREN'S APRON DOLLY GIRL</td>\n",
       "      <td>6</td>\n",
       "      <td>12/9/2011 12:50</td>\n",
       "      <td>2.10</td>\n",
       "      <td>12680.0</td>\n",
       "      <td>France</td>\n",
       "    </tr>\n",
       "    <tr>\n",
       "      <th>541906</th>\n",
       "      <td>581587</td>\n",
       "      <td>23254</td>\n",
       "      <td>CHILDRENS CUTLERY DOLLY GIRL</td>\n",
       "      <td>4</td>\n",
       "      <td>12/9/2011 12:50</td>\n",
       "      <td>4.15</td>\n",
       "      <td>12680.0</td>\n",
       "      <td>France</td>\n",
       "    </tr>\n",
       "    <tr>\n",
       "      <th>541907</th>\n",
       "      <td>581587</td>\n",
       "      <td>23255</td>\n",
       "      <td>CHILDRENS CUTLERY CIRCUS PARADE</td>\n",
       "      <td>4</td>\n",
       "      <td>12/9/2011 12:50</td>\n",
       "      <td>4.15</td>\n",
       "      <td>12680.0</td>\n",
       "      <td>France</td>\n",
       "    </tr>\n",
       "    <tr>\n",
       "      <th>541908</th>\n",
       "      <td>581587</td>\n",
       "      <td>22138</td>\n",
       "      <td>BAKING SET 9 PIECE RETROSPOT</td>\n",
       "      <td>3</td>\n",
       "      <td>12/9/2011 12:50</td>\n",
       "      <td>4.95</td>\n",
       "      <td>12680.0</td>\n",
       "      <td>France</td>\n",
       "    </tr>\n",
       "  </tbody>\n",
       "</table>\n",
       "</div>"
      ],
      "text/plain": [
       "       InvoiceNo StockCode                      Description  Quantity  \\\n",
       "541904    581587     22613      PACK OF 20 SPACEBOY NAPKINS        12   \n",
       "541905    581587     22899     CHILDREN'S APRON DOLLY GIRL          6   \n",
       "541906    581587     23254    CHILDRENS CUTLERY DOLLY GIRL          4   \n",
       "541907    581587     23255  CHILDRENS CUTLERY CIRCUS PARADE         4   \n",
       "541908    581587     22138    BAKING SET 9 PIECE RETROSPOT          3   \n",
       "\n",
       "            InvoiceDate  UnitPrice  CustomerID Country  \n",
       "541904  12/9/2011 12:50       0.85     12680.0  France  \n",
       "541905  12/9/2011 12:50       2.10     12680.0  France  \n",
       "541906  12/9/2011 12:50       4.15     12680.0  France  \n",
       "541907  12/9/2011 12:50       4.15     12680.0  France  \n",
       "541908  12/9/2011 12:50       4.95     12680.0  France  "
      ]
     },
     "execution_count": 9,
     "metadata": {},
     "output_type": "execute_result"
    }
   ],
   "source": [
    "# work with csv \n",
    "# read csv\n",
    "dfa = pd.read_csv('online-retail-dataset.csv')\n",
    "# top 5 data\n",
    "dfa.head(5)\n",
    "## last 5 records\n",
    "dfa.tail(5)"
   ]
  },
  {
   "cell_type": "code",
   "execution_count": 14,
   "metadata": {},
   "outputs": [
    {
     "name": "stderr",
     "output_type": "stream",
     "text": [
      "C:\\Users\\DIVYANSHU\\AppData\\Local\\Temp\\ipykernel_7676\\4120120119.py:12: FutureWarning: Series.__getitem__ treating keys as positions is deprecated. In a future version, integer keys will always be treated as labels (consistent with DataFrame behavior). To access a value by position, use `ser.iloc[pos]`\n",
      "  df1.loc[0][0] # getting only first name\n"
     ]
    },
    {
     "data": {
      "text/plain": [
       "'Joker'"
      ]
     },
     "execution_count": 14,
     "metadata": {},
     "output_type": "execute_result"
    }
   ],
   "source": [
    "## accessing data from dataframe\n",
    "data1 = [\n",
    "    {\"name\":\"Joker\",\"age\":1000,\"city\":\"jammu\"},\n",
    "    {\"name\":\"tim\",\"age\":1000,\"city\":\"jammu\"},\n",
    "    {\"name\":\"rizz\",\"age\":40,\"city\":\"jammu\"},\n",
    "    {\"name\":\"some\",\"age\":00,\"city\":\"jammu\"}\n",
    "]\n",
    "df1 = pd.DataFrame(data1)\n",
    "df1[\"name\"] ## this will give series of all name\n",
    "## if you want the data index wise then\n",
    "df1.loc[0]\n",
    "df1.loc[0][0] # getting only first name\n"
   ]
  },
  {
   "cell_type": "code",
   "execution_count": 17,
   "metadata": {},
   "outputs": [
    {
     "data": {
      "text/plain": [
       "'jammu'"
      ]
     },
     "execution_count": 17,
     "metadata": {},
     "output_type": "execute_result"
    }
   ],
   "source": [
    "## accessing the specific element \n",
    "df1.at[1,\"age\"] ## give age value of 1 row which is second based on 0 based indexing\n",
    "## column wise specific value\n",
    "df1.iat[2,2]"
   ]
  },
  {
   "cell_type": "code",
   "execution_count": 21,
   "metadata": {},
   "outputs": [
    {
     "data": {
      "text/html": [
       "<div>\n",
       "<style scoped>\n",
       "    .dataframe tbody tr th:only-of-type {\n",
       "        vertical-align: middle;\n",
       "    }\n",
       "\n",
       "    .dataframe tbody tr th {\n",
       "        vertical-align: top;\n",
       "    }\n",
       "\n",
       "    .dataframe thead th {\n",
       "        text-align: right;\n",
       "    }\n",
       "</style>\n",
       "<table border=\"1\" class=\"dataframe\">\n",
       "  <thead>\n",
       "    <tr style=\"text-align: right;\">\n",
       "      <th></th>\n",
       "      <th>name</th>\n",
       "      <th>age</th>\n",
       "      <th>city</th>\n",
       "    </tr>\n",
       "  </thead>\n",
       "  <tbody>\n",
       "    <tr>\n",
       "      <th>0</th>\n",
       "      <td>Joker</td>\n",
       "      <td>1000</td>\n",
       "      <td>jammu</td>\n",
       "    </tr>\n",
       "    <tr>\n",
       "      <th>1</th>\n",
       "      <td>tim</td>\n",
       "      <td>1000</td>\n",
       "      <td>jammu</td>\n",
       "    </tr>\n",
       "    <tr>\n",
       "      <th>2</th>\n",
       "      <td>rizz</td>\n",
       "      <td>40</td>\n",
       "      <td>jammu</td>\n",
       "    </tr>\n",
       "    <tr>\n",
       "      <th>3</th>\n",
       "      <td>some</td>\n",
       "      <td>0</td>\n",
       "      <td>jammu</td>\n",
       "    </tr>\n",
       "  </tbody>\n",
       "</table>\n",
       "</div>"
      ],
      "text/plain": [
       "    name   age   city\n",
       "0  Joker  1000  jammu\n",
       "1    tim  1000  jammu\n",
       "2   rizz    40  jammu\n",
       "3   some     0  jammu"
      ]
     },
     "execution_count": 21,
     "metadata": {},
     "output_type": "execute_result"
    }
   ],
   "source": [
    "# data manipulation\n",
    "# adding new column\n",
    "df1[\"salary\"] = [20000,35555,70000,79544]\n",
    "## remove column \n",
    "df1.drop(\"salary\",axis=1) # providing axis so that it should check row and column both to find 'salary' other wise it will check only row wise\n",
    "# this is a temporary operation it will not save the state so to make this state should be save after the drop operation use inplace=True\n",
    "df1.drop(\"salary\",axis=1,inplace=True) \n",
    "df1"
   ]
  },
  {
   "cell_type": "code",
   "execution_count": 25,
   "metadata": {},
   "outputs": [
    {
     "data": {
      "text/html": [
       "<div>\n",
       "<style scoped>\n",
       "    .dataframe tbody tr th:only-of-type {\n",
       "        vertical-align: middle;\n",
       "    }\n",
       "\n",
       "    .dataframe tbody tr th {\n",
       "        vertical-align: top;\n",
       "    }\n",
       "\n",
       "    .dataframe thead th {\n",
       "        text-align: right;\n",
       "    }\n",
       "</style>\n",
       "<table border=\"1\" class=\"dataframe\">\n",
       "  <thead>\n",
       "    <tr style=\"text-align: right;\">\n",
       "      <th></th>\n",
       "      <th>age</th>\n",
       "    </tr>\n",
       "  </thead>\n",
       "  <tbody>\n",
       "    <tr>\n",
       "      <th>count</th>\n",
       "      <td>4.000000</td>\n",
       "    </tr>\n",
       "    <tr>\n",
       "      <th>mean</th>\n",
       "      <td>513.000000</td>\n",
       "    </tr>\n",
       "    <tr>\n",
       "      <th>std</th>\n",
       "      <td>566.038868</td>\n",
       "    </tr>\n",
       "    <tr>\n",
       "      <th>min</th>\n",
       "      <td>3.000000</td>\n",
       "    </tr>\n",
       "    <tr>\n",
       "      <th>25%</th>\n",
       "      <td>33.000000</td>\n",
       "    </tr>\n",
       "    <tr>\n",
       "      <th>50%</th>\n",
       "      <td>523.000000</td>\n",
       "    </tr>\n",
       "    <tr>\n",
       "      <th>75%</th>\n",
       "      <td>1003.000000</td>\n",
       "    </tr>\n",
       "    <tr>\n",
       "      <th>max</th>\n",
       "      <td>1003.000000</td>\n",
       "    </tr>\n",
       "  </tbody>\n",
       "</table>\n",
       "</div>"
      ],
      "text/plain": [
       "               age\n",
       "count     4.000000\n",
       "mean    513.000000\n",
       "std     566.038868\n",
       "min       3.000000\n",
       "25%      33.000000\n",
       "50%     523.000000\n",
       "75%    1003.000000\n",
       "max    1003.000000"
      ]
     },
     "execution_count": 25,
     "metadata": {},
     "output_type": "execute_result"
    }
   ],
   "source": [
    "## increase age of every person by 1\n",
    "df1['age'] = df1['age']+1\n",
    "## describe \n",
    "# statistical description\n",
    "df1.describe()"
   ]
  }
 ],
 "metadata": {
  "kernelspec": {
   "display_name": "Python 3",
   "language": "python",
   "name": "python3"
  },
  "language_info": {
   "codemirror_mode": {
    "name": "ipython",
    "version": 3
   },
   "file_extension": ".py",
   "mimetype": "text/x-python",
   "name": "python",
   "nbconvert_exporter": "python",
   "pygments_lexer": "ipython3",
   "version": "3.10.0"
  }
 },
 "nbformat": 4,
 "nbformat_minor": 2
}
