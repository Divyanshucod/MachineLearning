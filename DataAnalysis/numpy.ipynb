{
 "cells": [
  {
   "cell_type": "code",
   "execution_count": 1,
   "metadata": {},
   "outputs": [
    {
     "name": "stdout",
     "output_type": "stream",
     "text": [
      "Requirement already satisfied: numpy in c:\\startingml\\venv\\lib\\site-packages (2.1.1)\n"
     ]
    }
   ],
   "source": [
    "## Numpy is a fundamental library for scientific computations,it provide support for arrays, matrices etc.\n",
    "\n",
    "!pip install numpy"
   ]
  },
  {
   "cell_type": "code",
   "execution_count": 3,
   "metadata": {},
   "outputs": [
    {
     "name": "stdout",
     "output_type": "stream",
     "text": [
      "[1 2 3 4]\n",
      "(4,)\n"
     ]
    }
   ],
   "source": [
    "import numpy as np\n",
    "# creating 1d array\n",
    "arr1 = np.array([1,2,3,4])\n",
    "print(arr1)\n",
    "# shape of array\n",
    "print(np.shape(arr1))"
   ]
  },
  {
   "cell_type": "code",
   "execution_count": 6,
   "metadata": {},
   "outputs": [
    {
     "name": "stdout",
     "output_type": "stream",
     "text": [
      "[[1 2 3 4]]\n",
      "[[0]\n",
      " [2]\n",
      " [4]\n",
      " [6]\n",
      " [8]]\n"
     ]
    }
   ],
   "source": [
    "## reshaping the array\n",
    "arr2 = np.array([1,2,3,4])\n",
    "arr2 = arr2.reshape(1,4)\n",
    "print(arr2)\n",
    "\n",
    "## arange\n",
    "arr3 = np.arange(0,10,2).reshape(5,1)\n",
    "print(arr3)"
   ]
  },
  {
   "cell_type": "code",
   "execution_count": 9,
   "metadata": {},
   "outputs": [
    {
     "data": {
      "text/plain": [
       "array([[1., 0., 0.],\n",
       "       [0., 1., 0.],\n",
       "       [0., 0., 1.]])"
      ]
     },
     "execution_count": 9,
     "metadata": {},
     "output_type": "execute_result"
    }
   ],
   "source": [
    "## inbuild functions \n",
    "# ones create matrix with all value as 1\n",
    "np.ones((1,3))\n",
    "# indentity matrix\n",
    "np.eye(3)"
   ]
  },
  {
   "cell_type": "code",
   "execution_count": 10,
   "metadata": {},
   "outputs": [
    {
     "name": "stdout",
     "output_type": "stream",
     "text": [
      "Array: [[1 2 3]\n",
      " [4 5 6]]\n",
      "\n",
      "\n",
      "Shape: (2, 3)\n",
      "dimension: 2\n",
      "Size:(no of elements): 6\n",
      "data type: int64\n",
      "item size: 8\n"
     ]
    }
   ],
   "source": [
    "# Attributes of np array\n",
    "arr = np.array([[1,2,3],[4,5,6]])\n",
    "\n",
    "print(\"Array:\",arr)\n",
    "print('\\n')\n",
    "print(\"Shape:\",arr.shape)\n",
    "print(\"dimension:\",arr.ndim)\n",
    "print(\"Size:(no of elements):\",arr.size)\n",
    "print(\"data type:\",arr.dtype)\n",
    "print(\"item size:\", arr.itemsize)\n"
   ]
  },
  {
   "cell_type": "code",
   "execution_count": 13,
   "metadata": {},
   "outputs": [
    {
     "name": "stdout",
     "output_type": "stream",
     "text": [
      "Addition: [ 21  32  43  54  95 106]\n",
      "Addition: [-19 -28 -37 -46 -85 -94]\n",
      "Addition: [ 20  60 120 200 450 600]\n",
      "Addition: [0.05       0.06666667 0.075      0.08       0.05555556 0.06      ]\n"
     ]
    }
   ],
   "source": [
    "## vectorized operations\n",
    "arr1 = np.array([1,2,3,4,5,6])\n",
    "arr2 = np.array([20,30,40,50,90,100])\n",
    "\n",
    "# element wise addition\n",
    "print(\"Addition:\",arr1+arr2)\n",
    "# element wise substraction\n",
    "print(\"Addition:\",arr1-arr2)\n",
    "# element wise multiplication\n",
    "print(\"Addition:\",arr1*arr2)\n",
    "# element wise division\n",
    "print(\"Addition:\",arr1/arr2)"
   ]
  },
  {
   "cell_type": "code",
   "execution_count": 15,
   "metadata": {},
   "outputs": [
    {
     "name": "stdout",
     "output_type": "stream",
     "text": [
      "[1.         1.41421356 1.73205081 2.        ]\n",
      "[ 2.71828183  7.3890561  20.08553692 54.59815003]\n",
      "[0.         0.69314718 1.09861229 1.38629436]\n",
      "[ 0.84147098  0.90929743  0.14112001 -0.7568025 ]\n"
     ]
    }
   ],
   "source": [
    "## Universal functions\n",
    "arr = np.array([1,2,3,4])\n",
    "## square root\n",
    "print(np.sqrt(arr))\n",
    "## exponential\n",
    "print(np.exp(arr))\n",
    "## natural log\n",
    "print(np.log(arr))\n",
    "## sine\n",
    "print(np.sin(arr))"
   ]
  },
  {
   "cell_type": "code",
   "execution_count": 20,
   "metadata": {},
   "outputs": [
    {
     "name": "stdout",
     "output_type": "stream",
     "text": [
      "[[3 4]\n",
      " [7 8]]\n",
      "[[ 8]\n",
      " [12]]\n",
      "1\n"
     ]
    }
   ],
   "source": [
    "##  slicing and indexing \n",
    "mat = np.array([[1,2,3,4],[5,6,7,8],[9,10,11,12]])\n",
    "print(mat[0:2,2:])\n",
    "print(mat[1:,3:])\n",
    "print(mat[0,0])\n",
    "\n",
    "## modification in array\n",
    "mat[0,0] = 10"
   ]
  },
  {
   "cell_type": "code",
   "execution_count": 23,
   "metadata": {},
   "outputs": [
    {
     "name": "stdout",
     "output_type": "stream",
     "text": [
      "[ 1  2  3  4  5  6  7  8  9 10]\n",
      "5.5\n",
      "5.5\n",
      "2.8722813232690143\n",
      "8.25\n"
     ]
    }
   ],
   "source": [
    "# statistical concepts\n",
    "data = np.arange(1,11)\n",
    "print(data)\n",
    "# mean\n",
    "mean = np.mean(data)\n",
    "print(mean)\n",
    "# median \n",
    "median = np.median(data)\n",
    "print(median)\n",
    "# standard deviation\n",
    "std = np.std(data)\n",
    "print(std)\n",
    "# variance\n",
    "variance = np.var(data)\n",
    "print(variance)"
   ]
  },
  {
   "cell_type": "code",
   "execution_count": 25,
   "metadata": {},
   "outputs": [
    {
     "data": {
      "text/plain": [
       "array([ 6,  7,  8,  9, 10])"
      ]
     },
     "execution_count": 25,
     "metadata": {},
     "output_type": "execute_result"
    }
   ],
   "source": [
    "## logical operations\n",
    "data > 5 ## give array in true false where the condition matches\n",
    "data[data>5] ## irectly give array with all elements that matches the condition"
   ]
  }
 ],
 "metadata": {
  "kernelspec": {
   "display_name": "Python 3",
   "language": "python",
   "name": "python3"
  },
  "language_info": {
   "codemirror_mode": {
    "name": "ipython",
    "version": 3
   },
   "file_extension": ".py",
   "mimetype": "text/x-python",
   "name": "python",
   "nbconvert_exporter": "python",
   "pygments_lexer": "ipython3",
   "version": "3.10.0"
  }
 },
 "nbformat": 4,
 "nbformat_minor": 2
}
