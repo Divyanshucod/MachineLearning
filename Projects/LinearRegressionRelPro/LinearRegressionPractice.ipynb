{
 "cells": [
  {
   "cell_type": "markdown",
   "metadata": {},
   "source": [
    "#### Practicing linear regression"
   ]
  },
  {
   "cell_type": "code",
   "execution_count": 1,
   "metadata": {},
   "outputs": [],
   "source": [
    "# Libraries\n",
    "import pandas as pd\n",
    "import numpy as np\n",
    "import matplotlib.pyplot as plt\n",
    "%matplotlib inline"
   ]
  },
  {
   "cell_type": "code",
   "execution_count": 2,
   "metadata": {},
   "outputs": [],
   "source": [
    "## creating custom dataset\n",
    "from sklearn.datasets import make_regression\n",
    "X,y = make_regression(n_samples=500,n_features=3,noise=15,random_state=42)"
   ]
  },
  {
   "cell_type": "code",
   "execution_count": 5,
   "metadata": {},
   "outputs": [],
   "source": [
    "df = pd.DataFrame(X,columns=['feature1','feature2','feature3'])\n",
    "df['target'] = y"
   ]
  },
  {
   "cell_type": "code",
   "execution_count": 8,
   "metadata": {},
   "outputs": [],
   "source": [
    "## adding missing values\n",
    "df.loc[df.sample(frac=0.1, random_state=42).index, \"feature1\"] = np.nan\n",
    "# Add outliers\n",
    "df.loc[df.sample(frac=0.05, random_state=42).index, \"feature2\"] *= 10"
   ]
  },
  {
   "cell_type": "code",
   "execution_count": 10,
   "metadata": {},
   "outputs": [
    {
     "data": {
      "text/plain": [
       "Index(['feature1', 'feature2', 'feature3', 'target', 'Feature1'], dtype='object')"
      ]
     },
     "execution_count": 10,
     "metadata": {},
     "output_type": "execute_result"
    }
   ],
   "source": [
    "df.columns"
   ]
  },
  {
   "cell_type": "code",
   "execution_count": 9,
   "metadata": {},
   "outputs": [],
   "source": [
    "df.to_csv('Linear-regression-dataset.csv',index=False)"
   ]
  },
  {
   "cell_type": "code",
   "execution_count": 26,
   "metadata": {},
   "outputs": [],
   "source": [
    "df = pd.read_csv(\"Linear-regression-dataset.csv\")"
   ]
  },
  {
   "cell_type": "code",
   "execution_count": 28,
   "metadata": {},
   "outputs": [
    {
     "data": {
      "text/plain": [
       "feature1     50\n",
       "feature2      0\n",
       "feature3      0\n",
       "target        0\n",
       "Feature1    500\n",
       "dtype: int64"
      ]
     },
     "execution_count": 28,
     "metadata": {},
     "output_type": "execute_result"
    }
   ],
   "source": [
    "df.isnull().sum()"
   ]
  },
  {
   "cell_type": "code",
   "execution_count": 30,
   "metadata": {},
   "outputs": [],
   "source": [
    "df = df.drop('Feature1',axis=1)"
   ]
  },
  {
   "cell_type": "code",
   "execution_count": null,
   "metadata": {},
   "outputs": [
    {
     "data": {
      "text/html": [
       "<div>\n",
       "<style scoped>\n",
       "    .dataframe tbody tr th:only-of-type {\n",
       "        vertical-align: middle;\n",
       "    }\n",
       "\n",
       "    .dataframe tbody tr th {\n",
       "        vertical-align: top;\n",
       "    }\n",
       "\n",
       "    .dataframe thead th {\n",
       "        text-align: right;\n",
       "    }\n",
       "</style>\n",
       "<table border=\"1\" class=\"dataframe\">\n",
       "  <thead>\n",
       "    <tr style=\"text-align: right;\">\n",
       "      <th></th>\n",
       "      <th>feature1</th>\n",
       "      <th>feature2</th>\n",
       "      <th>feature3</th>\n",
       "      <th>target</th>\n",
       "    </tr>\n",
       "  </thead>\n",
       "  <tbody>\n",
       "    <tr>\n",
       "      <th>0</th>\n",
       "      <td>True</td>\n",
       "      <td>False</td>\n",
       "      <td>False</td>\n",
       "      <td>False</td>\n",
       "    </tr>\n",
       "    <tr>\n",
       "      <th>1</th>\n",
       "      <td>False</td>\n",
       "      <td>False</td>\n",
       "      <td>False</td>\n",
       "      <td>False</td>\n",
       "    </tr>\n",
       "    <tr>\n",
       "      <th>2</th>\n",
       "      <td>True</td>\n",
       "      <td>False</td>\n",
       "      <td>False</td>\n",
       "      <td>False</td>\n",
       "    </tr>\n",
       "    <tr>\n",
       "      <th>3</th>\n",
       "      <td>False</td>\n",
       "      <td>False</td>\n",
       "      <td>False</td>\n",
       "      <td>False</td>\n",
       "    </tr>\n",
       "    <tr>\n",
       "      <th>4</th>\n",
       "      <td>False</td>\n",
       "      <td>False</td>\n",
       "      <td>False</td>\n",
       "      <td>False</td>\n",
       "    </tr>\n",
       "    <tr>\n",
       "      <th>...</th>\n",
       "      <td>...</td>\n",
       "      <td>...</td>\n",
       "      <td>...</td>\n",
       "      <td>...</td>\n",
       "    </tr>\n",
       "    <tr>\n",
       "      <th>495</th>\n",
       "      <td>True</td>\n",
       "      <td>False</td>\n",
       "      <td>False</td>\n",
       "      <td>False</td>\n",
       "    </tr>\n",
       "    <tr>\n",
       "      <th>496</th>\n",
       "      <td>False</td>\n",
       "      <td>False</td>\n",
       "      <td>False</td>\n",
       "      <td>False</td>\n",
       "    </tr>\n",
       "    <tr>\n",
       "      <th>497</th>\n",
       "      <td>True</td>\n",
       "      <td>False</td>\n",
       "      <td>False</td>\n",
       "      <td>False</td>\n",
       "    </tr>\n",
       "    <tr>\n",
       "      <th>498</th>\n",
       "      <td>False</td>\n",
       "      <td>False</td>\n",
       "      <td>False</td>\n",
       "      <td>False</td>\n",
       "    </tr>\n",
       "    <tr>\n",
       "      <th>499</th>\n",
       "      <td>False</td>\n",
       "      <td>False</td>\n",
       "      <td>False</td>\n",
       "      <td>False</td>\n",
       "    </tr>\n",
       "  </tbody>\n",
       "</table>\n",
       "<p>500 rows × 4 columns</p>\n",
       "</div>"
      ],
      "text/plain": [
       "     feature1  feature2  feature3  target\n",
       "0        True     False     False   False\n",
       "1       False     False     False   False\n",
       "2        True     False     False   False\n",
       "3       False     False     False   False\n",
       "4       False     False     False   False\n",
       "..        ...       ...       ...     ...\n",
       "495      True     False     False   False\n",
       "496     False     False     False   False\n",
       "497      True     False     False   False\n",
       "498     False     False     False   False\n",
       "499     False     False     False   False\n",
       "\n",
       "[500 rows x 4 columns]"
      ]
     },
     "execution_count": 32,
     "metadata": {},
     "output_type": "execute_result"
    }
   ],
   "source": [
    "df.isnull()"
   ]
  },
  {
   "cell_type": "code",
   "execution_count": 33,
   "metadata": {},
   "outputs": [],
   "source": [
    "## handling missing values\n",
    "df_cleaned = df.dropna()"
   ]
  },
  {
   "cell_type": "code",
   "execution_count": 44,
   "metadata": {},
   "outputs": [
    {
     "data": {
      "text/html": [
       "<div>\n",
       "<style scoped>\n",
       "    .dataframe tbody tr th:only-of-type {\n",
       "        vertical-align: middle;\n",
       "    }\n",
       "\n",
       "    .dataframe tbody tr th {\n",
       "        vertical-align: top;\n",
       "    }\n",
       "\n",
       "    .dataframe thead th {\n",
       "        text-align: right;\n",
       "    }\n",
       "</style>\n",
       "<table border=\"1\" class=\"dataframe\">\n",
       "  <thead>\n",
       "    <tr style=\"text-align: right;\">\n",
       "      <th></th>\n",
       "      <th>feature1</th>\n",
       "      <th>feature2</th>\n",
       "      <th>feature3</th>\n",
       "      <th>target</th>\n",
       "    </tr>\n",
       "  </thead>\n",
       "  <tbody>\n",
       "    <tr>\n",
       "      <th>count</th>\n",
       "      <td>450.000000</td>\n",
       "      <td>450.000000</td>\n",
       "      <td>450.000000</td>\n",
       "      <td>450.000000</td>\n",
       "    </tr>\n",
       "    <tr>\n",
       "      <th>mean</th>\n",
       "      <td>0.130984</td>\n",
       "      <td>-0.045955</td>\n",
       "      <td>0.064493</td>\n",
       "      <td>2.817652</td>\n",
       "    </tr>\n",
       "    <tr>\n",
       "      <th>std</th>\n",
       "      <td>0.935154</td>\n",
       "      <td>0.985555</td>\n",
       "      <td>1.037020</td>\n",
       "      <td>101.261301</td>\n",
       "    </tr>\n",
       "    <tr>\n",
       "      <th>min</th>\n",
       "      <td>-2.896255</td>\n",
       "      <td>-3.241267</td>\n",
       "      <td>-2.848543</td>\n",
       "      <td>-317.782652</td>\n",
       "    </tr>\n",
       "    <tr>\n",
       "      <th>25%</th>\n",
       "      <td>-0.525865</td>\n",
       "      <td>-0.755300</td>\n",
       "      <td>-0.590065</td>\n",
       "      <td>-64.108283</td>\n",
       "    </tr>\n",
       "    <tr>\n",
       "      <th>50%</th>\n",
       "      <td>0.180530</td>\n",
       "      <td>-0.037272</td>\n",
       "      <td>0.070684</td>\n",
       "      <td>1.725720</td>\n",
       "    </tr>\n",
       "    <tr>\n",
       "      <th>75%</th>\n",
       "      <td>0.661299</td>\n",
       "      <td>0.646741</td>\n",
       "      <td>0.710649</td>\n",
       "      <td>72.769963</td>\n",
       "    </tr>\n",
       "    <tr>\n",
       "      <th>max</th>\n",
       "      <td>2.579709</td>\n",
       "      <td>3.078881</td>\n",
       "      <td>3.852731</td>\n",
       "      <td>314.375731</td>\n",
       "    </tr>\n",
       "  </tbody>\n",
       "</table>\n",
       "</div>"
      ],
      "text/plain": [
       "         feature1    feature2    feature3      target\n",
       "count  450.000000  450.000000  450.000000  450.000000\n",
       "mean     0.130984   -0.045955    0.064493    2.817652\n",
       "std      0.935154    0.985555    1.037020  101.261301\n",
       "min     -2.896255   -3.241267   -2.848543 -317.782652\n",
       "25%     -0.525865   -0.755300   -0.590065  -64.108283\n",
       "50%      0.180530   -0.037272    0.070684    1.725720\n",
       "75%      0.661299    0.646741    0.710649   72.769963\n",
       "max      2.579709    3.078881    3.852731  314.375731"
      ]
     },
     "execution_count": 44,
     "metadata": {},
     "output_type": "execute_result"
    }
   ],
   "source": [
    "df_cleaned.describe()"
   ]
  },
  {
   "cell_type": "code",
   "execution_count": 45,
   "metadata": {},
   "outputs": [
    {
     "data": {
      "image/png": "[encoded data removed]",
      "text/plain": [
       "<Figure size 640x480 with 1 Axes>"
      ]
     },
     "metadata": {},
     "output_type": "display_data"
    }
   ],
   "source": [
    "## no dealing with outliers\n",
    "\n",
    "import seaborn as sns\n",
    "\n",
    "sns.boxplot(data=df_cleaned[\"feature1\"])\n",
    "plt.show()"
   ]
  },
  {
   "cell_type": "code",
   "execution_count": 46,
   "metadata": {},
   "outputs": [
    {
     "name": "stdout",
     "output_type": "stream",
     "text": [
      "Outliers in Target:      feature1  feature2  feature3      target\n",
      "201  0.241962 -1.913280 -1.724918 -278.874884\n",
      "426 -0.059525 -3.241267 -1.024388 -317.782652\n",
      "464  0.311250  3.078881  1.119575  314.375731\n"
     ]
    }
   ],
   "source": [
    "## IQR test to check is the outlier is realistic\n",
    "# Calculate IQR for Target\n",
    "Q1 = df_cleaned[\"target\"].quantile(0.25)\n",
    "Q3 = df_cleaned[\"target\"].quantile(0.75)\n",
    "IQR = Q3 - Q1\n",
    "\n",
    "lower_bound = Q1 - 1.5 * IQR\n",
    "upper_bound = Q3 + 1.5 * IQR\n",
    "\n",
    "# Find Outliers\n",
    "outliers_target = df_cleaned[(df_cleaned[\"target\"] < lower_bound) | (df_cleaned[\"target\"] > upper_bound)]\n",
    "print(\"Outliers in Target:\", outliers_target)"
   ]
  },
  {
   "cell_type": "code",
   "execution_count": 47,
   "metadata": {},
   "outputs": [],
   "source": [
    "## remove outliers row if not necessary \n",
    "df_cleaned = df_cleaned[(df_cleaned[\"target\"] >= lower_bound) & (df_cleaned[\"target\"] <= upper_bound)]"
   ]
  },
  {
   "cell_type": "code",
   "execution_count": null,
   "metadata": {},
   "outputs": [],
   "source": []
  },
  {
   "cell_type": "code",
   "execution_count": 51,
   "metadata": {},
   "outputs": [
    {
     "data": {
      "text/html": [
       "<div>\n",
       "<style scoped>\n",
       "    .dataframe tbody tr th:only-of-type {\n",
       "        vertical-align: middle;\n",
       "    }\n",
       "\n",
       "    .dataframe tbody tr th {\n",
       "        vertical-align: top;\n",
       "    }\n",
       "\n",
       "    .dataframe thead th {\n",
       "        text-align: right;\n",
       "    }\n",
       "</style>\n",
       "<table border=\"1\" class=\"dataframe\">\n",
       "  <thead>\n",
       "    <tr style=\"text-align: right;\">\n",
       "      <th></th>\n",
       "      <th>feature1</th>\n",
       "      <th>feature2</th>\n",
       "      <th>feature3</th>\n",
       "      <th>target</th>\n",
       "    </tr>\n",
       "  </thead>\n",
       "  <tbody>\n",
       "    <tr>\n",
       "      <th>count</th>\n",
       "      <td>447.000000</td>\n",
       "      <td>447.000000</td>\n",
       "      <td>447.000000</td>\n",
       "      <td>447.000000</td>\n",
       "    </tr>\n",
       "    <tr>\n",
       "      <th>mean</th>\n",
       "      <td>0.130759</td>\n",
       "      <td>-0.041620</td>\n",
       "      <td>0.068572</td>\n",
       "      <td>3.468065</td>\n",
       "    </tr>\n",
       "    <tr>\n",
       "      <th>std</th>\n",
       "      <td>0.938197</td>\n",
       "      <td>0.961888</td>\n",
       "      <td>1.034550</td>\n",
       "      <td>98.470208</td>\n",
       "    </tr>\n",
       "    <tr>\n",
       "      <th>min</th>\n",
       "      <td>-2.896255</td>\n",
       "      <td>-2.696887</td>\n",
       "      <td>-2.848543</td>\n",
       "      <td>-266.725261</td>\n",
       "    </tr>\n",
       "    <tr>\n",
       "      <th>25%</th>\n",
       "      <td>-0.529559</td>\n",
       "      <td>-0.753850</td>\n",
       "      <td>-0.579991</td>\n",
       "      <td>-63.500199</td>\n",
       "    </tr>\n",
       "    <tr>\n",
       "      <th>50%</th>\n",
       "      <td>0.177701</td>\n",
       "      <td>-0.034988</td>\n",
       "      <td>0.071566</td>\n",
       "      <td>1.872676</td>\n",
       "    </tr>\n",
       "    <tr>\n",
       "      <th>75%</th>\n",
       "      <td>0.670404</td>\n",
       "      <td>0.646286</td>\n",
       "      <td>0.709683</td>\n",
       "      <td>72.263669</td>\n",
       "    </tr>\n",
       "    <tr>\n",
       "      <th>max</th>\n",
       "      <td>2.579709</td>\n",
       "      <td>2.601683</td>\n",
       "      <td>3.852731</td>\n",
       "      <td>250.926379</td>\n",
       "    </tr>\n",
       "  </tbody>\n",
       "</table>\n",
       "</div>"
      ],
      "text/plain": [
       "         feature1    feature2    feature3      target\n",
       "count  447.000000  447.000000  447.000000  447.000000\n",
       "mean     0.130759   -0.041620    0.068572    3.468065\n",
       "std      0.938197    0.961888    1.034550   98.470208\n",
       "min     -2.896255   -2.696887   -2.848543 -266.725261\n",
       "25%     -0.529559   -0.753850   -0.579991  -63.500199\n",
       "50%      0.177701   -0.034988    0.071566    1.872676\n",
       "75%      0.670404    0.646286    0.709683   72.263669\n",
       "max      2.579709    2.601683    3.852731  250.926379"
      ]
     },
     "execution_count": 51,
     "metadata": {},
     "output_type": "execute_result"
    }
   ],
   "source": [
    "df_cleaned.describe()"
   ]
  },
  {
   "cell_type": "code",
   "execution_count": 53,
   "metadata": {},
   "outputs": [
    {
     "name": "stdout",
     "output_type": "stream",
     "text": [
      "Empty DataFrame\n",
      "Columns: [feature1, feature2, feature3, target]\n",
      "Index: []\n"
     ]
    }
   ],
   "source": [
    "## as we can see we still have outlier in target so again apply IQR\n",
    "Q1 = df_cleaned['target'].quantile(0.25)\n",
    "Q2 = df_cleaned['target'].quantile(0.75)\n",
    "IQR = Q2-Q1\n",
    "\n",
    "lower_bound = Q1 - 1.5 * IQR\n",
    "upper_bound = Q2 + 1.5 * IQR\n",
    "\n",
    "ouliers = df_cleaned[(df_cleaned['target'] < lower_bound) | (df_cleaned['target'] > upper_bound)]\n",
    "print(ouliers)"
   ]
  },
  {
   "cell_type": "code",
   "execution_count": 54,
   "metadata": {},
   "outputs": [
    {
     "data": {
      "image/png": "[encoded data removed]",
      "text/plain": [
       "<Figure size 640x480 with 1 Axes>"
      ]
     },
     "metadata": {},
     "output_type": "display_data"
    }
   ],
   "source": [
    "sns.histplot(df[\"target\"], kde=True)\n",
    "plt.title(\"Distribution of Target Variable\")\n",
    "plt.show()"
   ]
  },
  {
   "cell_type": "code",
   "execution_count": 56,
   "metadata": {},
   "outputs": [],
   "source": [
    "## train test split\n",
    "X= df_cleaned.iloc[:,:3]\n",
    "y = df_cleaned.iloc[:,3]"
   ]
  },
  {
   "cell_type": "code",
   "execution_count": 58,
   "metadata": {},
   "outputs": [
    {
     "data": {
      "text/plain": [
       "1      -61.295168\n",
       "3      166.911150\n",
       "4       20.971902\n",
       "5       26.234343\n",
       "6      131.257154\n",
       "          ...    \n",
       "493    -65.042116\n",
       "494     91.562419\n",
       "496     -1.052495\n",
       "498     -9.160712\n",
       "499     48.589343\n",
       "Name: target, Length: 447, dtype: float64"
      ]
     },
     "execution_count": 58,
     "metadata": {},
     "output_type": "execute_result"
    }
   ],
   "source": [
    "y"
   ]
  },
  {
   "cell_type": "code",
   "execution_count": 59,
   "metadata": {},
   "outputs": [],
   "source": [
    "from sklearn.model_selection import train_test_split\n",
    "X_train,X_test,Y_train,Y_test = train_test_split(X,y,test_size=0.25,random_state=42)"
   ]
  },
  {
   "cell_type": "code",
   "execution_count": 60,
   "metadata": {},
   "outputs": [],
   "source": [
    "## train a model\n",
    "from sklearn.linear_model import LinearRegression\n",
    "regression = LinearRegression()\n",
    "regression.fit(X_train,Y_train)\n",
    "y_pred = regression.predict(X_test)"
   ]
  },
  {
   "cell_type": "code",
   "execution_count": 61,
   "metadata": {},
   "outputs": [
    {
     "name": "stdout",
     "output_type": "stream",
     "text": [
      "0.9787289445278811\n",
      "11.84328314908033\n"
     ]
    }
   ],
   "source": [
    "## performance metrices\n",
    "from sklearn.metrics import r2_score,mean_absolute_error\n",
    "print(r2_score(Y_test,y_pred))\n",
    "print(mean_absolute_error(Y_test,y_pred))"
   ]
  },
  {
   "cell_type": "code",
   "execution_count": 65,
   "metadata": {},
   "outputs": [
    {
     "data": {
      "text/plain": [
       "(447,)"
      ]
     },
     "execution_count": 65,
     "metadata": {},
     "output_type": "execute_result"
    }
   ],
   "source": [
    "y.shape"
   ]
  },
  {
   "cell_type": "code",
   "execution_count": 69,
   "metadata": {},
   "outputs": [
    {
     "data": {
      "image/png": "[encoded data removed]",
      "text/plain": [
       "<Figure size 640x480 with 1 Axes>"
      ]
     },
     "metadata": {},
     "output_type": "display_data"
    }
   ],
   "source": [
    "## plot graph\n",
    "plt.plot(Y_test,y_pred)\n",
    "plt.show()"
   ]
  }
 ],
 "metadata": {
  "kernelspec": {
   "display_name": "Python 3",
   "language": "python",
   "name": "python3"
  },
  "language_info": {
   "codemirror_mode": {
    "name": "ipython",
    "version": 3
   },
   "file_extension": ".py",
   "mimetype": "text/x-python",
   "name": "python",
   "nbconvert_exporter": "python",
   "pygments_lexer": "ipython3",
   "version": "3.10.0"
  }
 },
 "nbformat": 4,
 "nbformat_minor": 2
}
